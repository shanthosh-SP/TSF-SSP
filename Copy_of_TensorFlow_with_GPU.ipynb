{
  "nbformat": 4,
  "nbformat_minor": 0,
  "metadata": {
    "colab": {
      "name": "Copy of TensorFlow with GPU",
      "provenance": [],
      "collapsed_sections": [],
      "include_colab_link": true
    },
    "kernelspec": {
      "display_name": "Python 3",
      "name": "python3"
    },
    "accelerator": "GPU"
  },
  "cells": [
    {
      "cell_type": "markdown",
      "metadata": {
        "id": "view-in-github",
        "colab_type": "text"
      },
      "source": [
        "<a href=\"https://colab.research.google.com/github/shanthosh-SP/TSF-SSP/blob/main/Copy_of_TensorFlow_with_GPU.ipynb\" target=\"_parent\"><img src=\"https://colab.research.google.com/assets/colab-badge.svg\" alt=\"Open In Colab\"/></a>"
      ]
    },
    {
      "cell_type": "markdown",
      "metadata": {
        "id": "tMce8muBqXQP"
      },
      "source": [
        "# Tensorflow with GPU\n",
        "\n",
        "This notebook provides an introduction to computing on a [GPU](https://cloud.google.com/gpu) in Colab. In this notebook you will connect to a GPU, and then run some basic TensorFlow operations on both the CPU and a GPU, observing the speedup provided by using the GPU.\n"
      ]
    },
    {
      "cell_type": "markdown",
      "metadata": {
        "id": "oM_8ELnJq_wd"
      },
      "source": [
        "## Enabling and testing the GPU\n",
        "\n",
        "First, you'll need to enable GPUs for the notebook:\n",
        "\n",
        "- Navigate to Edit→Notebook Settings\n",
        "- select GPU from the Hardware Accelerator drop-down\n",
        "\n",
        "Next, we'll confirm that we can connect to the GPU with tensorflow:"
      ]
    },
    {
      "cell_type": "code",
      "metadata": {
        "colab": {
          "base_uri": "https://localhost:8080/"
        },
        "id": "sXnDmXR7RDr2",
        "outputId": "f6be83c7-cb61-438f-ae82-b569f261ca75"
      },
      "source": [
        "%tensorflow_version 2.x\n",
        "import tensorflow as tf\n",
        "device_name = tf.test.gpu_device_name()\n",
        "if device_name != '/device:GPU:0':\n",
        "  raise SystemError('GPU device not found')\n",
        "print('Found GPU at: {}'.format(device_name))"
      ],
      "execution_count": null,
      "outputs": [
        {
          "output_type": "stream",
          "text": [
            "Found GPU at: /device:GPU:0\n"
          ],
          "name": "stdout"
        }
      ]
    },
    {
      "cell_type": "markdown",
      "metadata": {
        "id": "v3fE7KmKRDsH"
      },
      "source": [
        "## Observe TensorFlow speedup on GPU relative to CPU\n",
        "\n",
        "This example constructs a typical convolutional neural network layer over a\n",
        "random image and manually places the resulting ops on either the CPU or the GPU\n",
        "to compare execution speed."
      ]
    },
    {
      "cell_type": "code",
      "metadata": {
        "id": "NyBZPoa9xXo5"
      },
      "source": [
        ""
      ],
      "execution_count": null,
      "outputs": []
    },
    {
      "cell_type": "code",
      "metadata": {
        "colab": {
          "base_uri": "https://localhost:8080/"
        },
        "id": "Y04m-jvKRDsJ",
        "outputId": "0817a15f-a8eb-4bf9-b10f-a753ab9b3646"
      },
      "source": [
        "%tensorflow_version 2.x\n",
        "import tensorflow as tf\n",
        "import timeit\n",
        "\n",
        "device_name = tf.test.gpu_device_name()\n",
        "if device_name != '/device:GPU:0':\n",
        "  print(\n",
        "      '\\n\\nThis error most likely means that this notebook is not '\n",
        "      'configured to use a GPU.  Change this in Notebook Settings via the '\n",
        "      'command palette (cmd/ctrl-shift-P) or the Edit menu.\\n\\n')\n",
        "  raise SystemError('GPU device not found')\n",
        "\n",
        "def cpu():\n",
        "  with tf.device('/cpu:0'):\n",
        "    random_image_cpu = tf.random.normal((100, 100, 100, 3))\n",
        "    net_cpu = tf.keras.layers.Conv2D(32, 7)(random_image_cpu)\n",
        "    return tf.math.reduce_sum(net_cpu)\n",
        "\n",
        "def gpu():\n",
        "  with tf.device('/device:GPU:0'):\n",
        "    random_image_gpu = tf.random.normal((100, 100, 100, 3))\n",
        "    net_gpu = tf.keras.layers.Conv2D(32, 7)(random_image_gpu)\n",
        "    return tf.math.reduce_sum(net_gpu)\n",
        "  \n",
        "# We run each op once to warm up; see: https://stackoverflow.com/a/45067900\n",
        "cpu()\n",
        "gpu()\n",
        "\n",
        "# Run the op several times.\n",
        "print('Time (s) to convolve 32x7x7x3 filter over random 100x100x100x3 images '\n",
        "      '(batch x height x width x channel). Sum of ten runs.')\n",
        "print('CPU (s):')\n",
        "cpu_time = timeit.timeit('cpu()', number=10, setup=\"from __main__ import cpu\")\n",
        "print(cpu_time)\n",
        "print('GPU (s):')\n",
        "gpu_time = timeit.timeit('gpu()', number=10, setup=\"from __main__ import gpu\")\n",
        "print(gpu_time)\n",
        "print('GPU speedup over CPU: {}x'.format(int(cpu_time/gpu_time)))"
      ],
      "execution_count": null,
      "outputs": [
        {
          "output_type": "stream",
          "text": [
            "Time (s) to convolve 32x7x7x3 filter over random 100x100x100x3 images (batch x height x width x channel). Sum of ten runs.\n",
            "CPU (s):\n",
            "2.8366188109998802\n",
            "GPU (s):\n",
            "0.034535320999566466\n",
            "GPU speedup over CPU: 82x\n"
          ],
          "name": "stdout"
        }
      ]
    },
    {
      "cell_type": "code",
      "metadata": {
        "id": "1A7z2QmLuAzG",
        "colab": {
          "base_uri": "https://localhost:8080/",
          "height": 241
        },
        "outputId": "8c829b53-a98f-48ee-a9ad-03f0df5cb6b7"
      },
      "source": [
        "import pandas as pd\n",
        "df=pd.read_excel('/content/monthly.xlsx')\n",
        "df.head()"
      ],
      "execution_count": null,
      "outputs": [
        {
          "output_type": "execute_result",
          "data": {
            "text/html": [
              "<div>\n",
              "<style scoped>\n",
              "    .dataframe tbody tr th:only-of-type {\n",
              "        vertical-align: middle;\n",
              "    }\n",
              "\n",
              "    .dataframe tbody tr th {\n",
              "        vertical-align: top;\n",
              "    }\n",
              "\n",
              "    .dataframe thead th {\n",
              "        text-align: right;\n",
              "    }\n",
              "</style>\n",
              "<table border=\"1\" class=\"dataframe\">\n",
              "  <thead>\n",
              "    <tr style=\"text-align: right;\">\n",
              "      <th></th>\n",
              "      <th>Type</th>\n",
              "      <th>Date</th>\n",
              "      <th>Time</th>\n",
              "      <th>open</th>\n",
              "      <th>high</th>\n",
              "      <th>low</th>\n",
              "      <th>close</th>\n",
              "      <th>SMA</th>\n",
              "      <th>EMA</th>\n",
              "      <th>DailyLag</th>\n",
              "      <th>DailyReturn</th>\n",
              "      <th>Month</th>\n",
              "      <th>DailyVariationPercentage</th>\n",
              "      <th>Unnamed: 13</th>\n",
              "    </tr>\n",
              "  </thead>\n",
              "  <tbody>\n",
              "    <tr>\n",
              "      <th>0</th>\n",
              "      <td>NIFTY</td>\n",
              "      <td>20210101</td>\n",
              "      <td>09:16:00</td>\n",
              "      <td>13997.90</td>\n",
              "      <td>14020.85</td>\n",
              "      <td>13991.35</td>\n",
              "      <td>14013.15</td>\n",
              "      <td>14013.15</td>\n",
              "      <td>14013.150000</td>\n",
              "      <td>0.00</td>\n",
              "      <td>0.000000</td>\n",
              "      <td>Jan</td>\n",
              "      <td>0.210517</td>\n",
              "      <td>0.000088</td>\n",
              "    </tr>\n",
              "    <tr>\n",
              "      <th>1</th>\n",
              "      <td>NIFTY</td>\n",
              "      <td>20210101</td>\n",
              "      <td>09:17:00</td>\n",
              "      <td>14014.85</td>\n",
              "      <td>14018.55</td>\n",
              "      <td>14008.15</td>\n",
              "      <td>14009.05</td>\n",
              "      <td>14009.05</td>\n",
              "      <td>14009.050000</td>\n",
              "      <td>14013.15</td>\n",
              "      <td>0.000293</td>\n",
              "      <td>Jan</td>\n",
              "      <td>0.074238</td>\n",
              "      <td>NaN</td>\n",
              "    </tr>\n",
              "    <tr>\n",
              "      <th>2</th>\n",
              "      <td>NIFTY</td>\n",
              "      <td>20210101</td>\n",
              "      <td>09:18:00</td>\n",
              "      <td>14008.05</td>\n",
              "      <td>14013.10</td>\n",
              "      <td>14005.05</td>\n",
              "      <td>14012.70</td>\n",
              "      <td>14012.70</td>\n",
              "      <td>14012.700000</td>\n",
              "      <td>14009.05</td>\n",
              "      <td>-0.000260</td>\n",
              "      <td>Jan</td>\n",
              "      <td>0.057448</td>\n",
              "      <td>NaN</td>\n",
              "    </tr>\n",
              "    <tr>\n",
              "      <th>3</th>\n",
              "      <td>NIFTY</td>\n",
              "      <td>20210101</td>\n",
              "      <td>09:19:00</td>\n",
              "      <td>14013.65</td>\n",
              "      <td>14019.10</td>\n",
              "      <td>14013.65</td>\n",
              "      <td>14016.20</td>\n",
              "      <td>14016.20</td>\n",
              "      <td>14016.200000</td>\n",
              "      <td>14012.70</td>\n",
              "      <td>-0.000250</td>\n",
              "      <td>Jan</td>\n",
              "      <td>0.038884</td>\n",
              "      <td>NaN</td>\n",
              "    </tr>\n",
              "    <tr>\n",
              "      <th>4</th>\n",
              "      <td>NIFTY</td>\n",
              "      <td>20210101</td>\n",
              "      <td>09:20:00</td>\n",
              "      <td>14015.45</td>\n",
              "      <td>14017.80</td>\n",
              "      <td>14011.95</td>\n",
              "      <td>14015.45</td>\n",
              "      <td>14013.31</td>\n",
              "      <td>14013.310188</td>\n",
              "      <td>14016.20</td>\n",
              "      <td>0.000054</td>\n",
              "      <td>Jan</td>\n",
              "      <td>0.041740</td>\n",
              "      <td>NaN</td>\n",
              "    </tr>\n",
              "  </tbody>\n",
              "</table>\n",
              "</div>"
            ],
            "text/plain": [
              "    Type      Date      Time  ...  Month  DailyVariationPercentage  Unnamed: 13\n",
              "0  NIFTY  20210101  09:16:00  ...    Jan                  0.210517     0.000088\n",
              "1  NIFTY  20210101  09:17:00  ...    Jan                  0.074238          NaN\n",
              "2  NIFTY  20210101  09:18:00  ...    Jan                  0.057448          NaN\n",
              "3  NIFTY  20210101  09:19:00  ...    Jan                  0.038884          NaN\n",
              "4  NIFTY  20210101  09:20:00  ...    Jan                  0.041740          NaN\n",
              "\n",
              "[5 rows x 14 columns]"
            ]
          },
          "metadata": {
            "tags": []
          },
          "execution_count": 3
        }
      ]
    },
    {
      "cell_type": "code",
      "metadata": {
        "id": "kRU_1Yd3vMWr",
        "colab": {
          "base_uri": "https://localhost:8080/",
          "height": 267
        },
        "outputId": "4f01cff2-0ac2-4187-8ae3-304612480823"
      },
      "source": [
        "##prediction on close\n",
        "df1=df.reset_index()['close']\n",
        "df1.shape\n",
        "\n",
        "import matplotlib.pyplot as plt\n",
        "plt.plot(df1)\n",
        "\n",
        "##lstm is very senstive to scale\n",
        "\n",
        "import numpy as np\n",
        "from sklearn.preprocessing import MinMaxScaler\n",
        "scaler=MinMaxScaler(feature_range=(0,1))\n",
        "df1=scaler.fit_transform(np.array(df1).reshape(-1,1))\n",
        "\n",
        "df1.shape\n",
        "\n",
        "##Spliting train test split\n",
        "training_size=int(len(df1)*0.65)\n",
        "test_size=len(df1)-training_size\n",
        "train_data,test_data=df1[0:training_size,:],df1[training_size:len(df1),:1]"
      ],
      "execution_count": null,
      "outputs": [
        {
          "output_type": "display_data",
          "data": {
            "image/png": "[encoded data removed]",
            "text/plain": [
              "<Figure size 432x288 with 1 Axes>"
            ]
          },
          "metadata": {
            "tags": [],
            "needs_background": "light"
          }
        }
      ]
    },
    {
      "cell_type": "code",
      "metadata": {
        "id": "heO6CQQGvfqX",
        "colab": {
          "base_uri": "https://localhost:8080/"
        },
        "outputId": "273a4b7b-24a6-43f9-a9bf-543c287276d5"
      },
      "source": [
        "##convert an array of values into a dataset matrix\n",
        "import numpy\n",
        "def create_dataset(dataset,time_step=1):\n",
        "\tdataX,dataY=[],[]\n",
        "\tfor i in range(len(dataset)-time_step-1):\n",
        "\t\ta=dataset[i:(i+time_step),0]\n",
        "\t\tdataX.append(a)\n",
        "\t\tdataY.append(dataset[i+time_step,0])\n",
        "\treturn numpy.array(dataX),numpy.array(dataY)\n",
        "\n",
        "##reshape into X=t,t+1,t+2,t+3 and t+4\n",
        "time_step=100\n",
        "X_train,y_train=create_dataset(train_data,time_step)\n",
        "X_test,y_test=create_dataset(test_data,time_step)\n",
        " \n",
        "\n",
        "#reshape input to be [samples,time steps,features] which is required for LSTM\n",
        "X_train=X_train.reshape(X_train.shape[0],X_train.shape[1],1)\n",
        "X_test=X_test.reshape(X_test.shape[0],X_test.shape[1],1)\n",
        "\n",
        "##create the LSTM model\n",
        "from tensorflow.keras.models import Sequential\n",
        "from tensorflow.keras.layers import Dense\n",
        "from tensorflow.keras.layers import LSTM\n",
        "\n",
        "model=Sequential()\n",
        "model.add(LSTM(50,return_sequences=True,input_shape=(100,1)))\n",
        "model.add(LSTM(50,return_sequences=True))\n",
        "model.add(LSTM(50))\n",
        "model.add(Dense(1))\n",
        "model.compile(loss='mean_squared_error',optimizer='adam')\n",
        "\n",
        "model.summary()\n",
        "\n",
        "model.fit(X_train,y_train,validation_data=(X_test,y_test),epochs=100,batch_size=64,verbose=1)\n"
      ],
      "execution_count": null,
      "outputs": [
        {
          "output_type": "stream",
          "text": [
            "Model: \"sequential\"\n",
            "_________________________________________________________________\n",
            "Layer (type)                 Output Shape              Param #   \n",
            "=================================================================\n",
            "lstm (LSTM)                  (None, 100, 50)           10400     \n",
            "_________________________________________________________________\n",
            "lstm_1 (LSTM)                (None, 100, 50)           20200     \n",
            "_________________________________________________________________\n",
            "lstm_2 (LSTM)                (None, 50)                20200     \n",
            "_________________________________________________________________\n",
            "dense (Dense)                (None, 1)                 51        \n",
            "=================================================================\n",
            "Total params: 50,851\n",
            "Trainable params: 50,851\n",
            "Non-trainable params: 0\n",
            "_________________________________________________________________\n",
            "Epoch 1/100\n",
            "230/230 [==============================] - 9s 19ms/step - loss: 0.0087 - val_loss: 2.5953e-04\n",
            "Epoch 2/100\n",
            "230/230 [==============================] - 3s 15ms/step - loss: 2.1221e-04 - val_loss: 2.4021e-04\n",
            "Epoch 3/100\n",
            "230/230 [==============================] - 3s 15ms/step - loss: 2.0274e-04 - val_loss: 2.3310e-04\n",
            "Epoch 4/100\n",
            "230/230 [==============================] - 3s 15ms/step - loss: 1.9034e-04 - val_loss: 1.8515e-04\n",
            "Epoch 5/100\n",
            "230/230 [==============================] - 3s 15ms/step - loss: 1.9487e-04 - val_loss: 1.8246e-04\n",
            "Epoch 6/100\n",
            "230/230 [==============================] - 3s 15ms/step - loss: 1.7532e-04 - val_loss: 1.6091e-04\n",
            "Epoch 7/100\n",
            "230/230 [==============================] - 3s 15ms/step - loss: 1.7007e-04 - val_loss: 1.7077e-04\n",
            "Epoch 8/100\n",
            "230/230 [==============================] - 3s 15ms/step - loss: 1.4364e-04 - val_loss: 1.3381e-04\n",
            "Epoch 9/100\n",
            "230/230 [==============================] - 3s 15ms/step - loss: 1.4825e-04 - val_loss: 1.2764e-04\n",
            "Epoch 10/100\n",
            "230/230 [==============================] - 3s 15ms/step - loss: 1.4028e-04 - val_loss: 1.5577e-04\n",
            "Epoch 11/100\n",
            "230/230 [==============================] - 3s 15ms/step - loss: 1.4076e-04 - val_loss: 1.6594e-04\n",
            "Epoch 12/100\n",
            "230/230 [==============================] - 3s 15ms/step - loss: 1.1805e-04 - val_loss: 1.3493e-04\n",
            "Epoch 13/100\n",
            "230/230 [==============================] - 3s 15ms/step - loss: 1.1186e-04 - val_loss: 1.2136e-04\n",
            "Epoch 14/100\n",
            "230/230 [==============================] - 3s 15ms/step - loss: 1.2405e-04 - val_loss: 1.4202e-04\n",
            "Epoch 15/100\n",
            "230/230 [==============================] - 3s 15ms/step - loss: 1.0588e-04 - val_loss: 8.4479e-05\n",
            "Epoch 16/100\n",
            "230/230 [==============================] - 3s 15ms/step - loss: 9.3477e-05 - val_loss: 1.2787e-04\n",
            "Epoch 17/100\n",
            "230/230 [==============================] - 3s 15ms/step - loss: 9.2096e-05 - val_loss: 1.3202e-04\n",
            "Epoch 18/100\n",
            "230/230 [==============================] - 3s 15ms/step - loss: 8.3799e-05 - val_loss: 1.2108e-04\n",
            "Epoch 19/100\n",
            "230/230 [==============================] - 4s 15ms/step - loss: 7.7814e-05 - val_loss: 1.5489e-04\n",
            "Epoch 20/100\n",
            "230/230 [==============================] - 3s 15ms/step - loss: 7.8102e-05 - val_loss: 5.9909e-05\n",
            "Epoch 21/100\n",
            "230/230 [==============================] - 3s 15ms/step - loss: 7.2868e-05 - val_loss: 8.0958e-05\n",
            "Epoch 22/100\n",
            "230/230 [==============================] - 3s 15ms/step - loss: 6.8998e-05 - val_loss: 7.8251e-05\n",
            "Epoch 23/100\n",
            "230/230 [==============================] - 3s 15ms/step - loss: 6.5036e-05 - val_loss: 5.0618e-05\n",
            "Epoch 24/100\n",
            "230/230 [==============================] - 3s 15ms/step - loss: 5.7837e-05 - val_loss: 7.7888e-05\n",
            "Epoch 25/100\n",
            "230/230 [==============================] - 3s 15ms/step - loss: 5.6276e-05 - val_loss: 1.1725e-04\n",
            "Epoch 26/100\n",
            "230/230 [==============================] - 3s 15ms/step - loss: 6.1802e-05 - val_loss: 4.6545e-05\n",
            "Epoch 27/100\n",
            "230/230 [==============================] - 3s 15ms/step - loss: 4.6034e-05 - val_loss: 4.6027e-05\n",
            "Epoch 28/100\n",
            "230/230 [==============================] - 3s 15ms/step - loss: 4.8046e-05 - val_loss: 7.1032e-05\n",
            "Epoch 29/100\n",
            "230/230 [==============================] - 3s 15ms/step - loss: 4.7402e-05 - val_loss: 3.7952e-05\n",
            "Epoch 30/100\n",
            "230/230 [==============================] - 3s 15ms/step - loss: 4.2695e-05 - val_loss: 4.9583e-05\n",
            "Epoch 31/100\n",
            "230/230 [==============================] - 3s 15ms/step - loss: 4.3446e-05 - val_loss: 3.4976e-05\n",
            "Epoch 32/100\n",
            "230/230 [==============================] - 3s 15ms/step - loss: 3.8627e-05 - val_loss: 8.0711e-05\n",
            "Epoch 33/100\n",
            "230/230 [==============================] - 3s 15ms/step - loss: 4.1513e-05 - val_loss: 2.9742e-05\n",
            "Epoch 34/100\n",
            "230/230 [==============================] - 3s 15ms/step - loss: 3.3513e-05 - val_loss: 3.3124e-05\n",
            "Epoch 35/100\n",
            "230/230 [==============================] - 3s 15ms/step - loss: 4.1400e-05 - val_loss: 3.2773e-05\n",
            "Epoch 36/100\n",
            "230/230 [==============================] - 3s 15ms/step - loss: 3.9864e-05 - val_loss: 2.6868e-05\n",
            "Epoch 37/100\n",
            "230/230 [==============================] - 3s 15ms/step - loss: 3.5104e-05 - val_loss: 3.0954e-05\n",
            "Epoch 38/100\n",
            "230/230 [==============================] - 3s 15ms/step - loss: 3.3757e-05 - val_loss: 3.2981e-05\n",
            "Epoch 39/100\n",
            "230/230 [==============================] - 3s 15ms/step - loss: 3.1557e-05 - val_loss: 4.5265e-05\n",
            "Epoch 40/100\n",
            "230/230 [==============================] - 3s 15ms/step - loss: 3.5046e-05 - val_loss: 3.2989e-05\n",
            "Epoch 41/100\n",
            "230/230 [==============================] - 3s 15ms/step - loss: 3.3352e-05 - val_loss: 1.2315e-04\n",
            "Epoch 42/100\n",
            "230/230 [==============================] - 3s 15ms/step - loss: 3.1303e-05 - val_loss: 3.0330e-05\n",
            "Epoch 43/100\n",
            "230/230 [==============================] - 3s 15ms/step - loss: 3.2974e-05 - val_loss: 2.7426e-05\n",
            "Epoch 44/100\n",
            "230/230 [==============================] - 3s 15ms/step - loss: 3.8034e-05 - val_loss: 5.1390e-05\n",
            "Epoch 45/100\n",
            "230/230 [==============================] - 3s 15ms/step - loss: 3.1260e-05 - val_loss: 4.6044e-05\n",
            "Epoch 46/100\n",
            "230/230 [==============================] - 3s 15ms/step - loss: 3.2742e-05 - val_loss: 2.7720e-05\n",
            "Epoch 47/100\n",
            "230/230 [==============================] - 3s 15ms/step - loss: 3.3263e-05 - val_loss: 5.1370e-05\n",
            "Epoch 48/100\n",
            "230/230 [==============================] - 3s 15ms/step - loss: 3.4230e-05 - val_loss: 2.7104e-05\n",
            "Epoch 49/100\n",
            "230/230 [==============================] - 3s 15ms/step - loss: 2.9539e-05 - val_loss: 2.9145e-05\n",
            "Epoch 50/100\n",
            "230/230 [==============================] - 3s 15ms/step - loss: 3.3713e-05 - val_loss: 2.9706e-05\n",
            "Epoch 51/100\n",
            "230/230 [==============================] - 3s 15ms/step - loss: 3.0366e-05 - val_loss: 2.6903e-05\n",
            "Epoch 52/100\n",
            "230/230 [==============================] - 3s 15ms/step - loss: 2.9274e-05 - val_loss: 3.8112e-05\n",
            "Epoch 53/100\n",
            "230/230 [==============================] - 3s 15ms/step - loss: 3.2162e-05 - val_loss: 7.5008e-05\n",
            "Epoch 54/100\n",
            "230/230 [==============================] - 3s 15ms/step - loss: 2.9514e-05 - val_loss: 6.3233e-05\n",
            "Epoch 55/100\n",
            "230/230 [==============================] - 3s 15ms/step - loss: 3.1810e-05 - val_loss: 3.1703e-05\n",
            "Epoch 56/100\n",
            "230/230 [==============================] - 3s 15ms/step - loss: 3.1006e-05 - val_loss: 2.8000e-05\n",
            "Epoch 57/100\n",
            "230/230 [==============================] - 3s 15ms/step - loss: 3.2144e-05 - val_loss: 2.6807e-05\n",
            "Epoch 58/100\n",
            "230/230 [==============================] - 3s 15ms/step - loss: 3.0806e-05 - val_loss: 2.6563e-05\n",
            "Epoch 59/100\n",
            "230/230 [==============================] - 3s 15ms/step - loss: 3.4794e-05 - val_loss: 2.7616e-05\n",
            "Epoch 60/100\n",
            "230/230 [==============================] - 3s 15ms/step - loss: 3.3918e-05 - val_loss: 2.7272e-05\n",
            "Epoch 61/100\n",
            "230/230 [==============================] - 3s 15ms/step - loss: 3.1376e-05 - val_loss: 2.8740e-05\n",
            "Epoch 62/100\n",
            "230/230 [==============================] - 3s 15ms/step - loss: 2.9597e-05 - val_loss: 2.6234e-05\n",
            "Epoch 63/100\n",
            "230/230 [==============================] - 3s 15ms/step - loss: 2.7122e-05 - val_loss: 3.1682e-05\n",
            "Epoch 64/100\n",
            "230/230 [==============================] - 3s 15ms/step - loss: 2.9661e-05 - val_loss: 2.6520e-05\n",
            "Epoch 65/100\n",
            "230/230 [==============================] - 3s 15ms/step - loss: 3.1160e-05 - val_loss: 4.5249e-05\n",
            "Epoch 66/100\n",
            "230/230 [==============================] - 3s 15ms/step - loss: 3.2085e-05 - val_loss: 5.5054e-05\n",
            "Epoch 67/100\n",
            "230/230 [==============================] - 3s 15ms/step - loss: 2.8804e-05 - val_loss: 3.0485e-05\n",
            "Epoch 68/100\n",
            "230/230 [==============================] - 3s 15ms/step - loss: 2.7175e-05 - val_loss: 2.6230e-05\n",
            "Epoch 69/100\n",
            "230/230 [==============================] - 3s 15ms/step - loss: 3.0740e-05 - val_loss: 2.6209e-05\n",
            "Epoch 70/100\n",
            "230/230 [==============================] - 4s 15ms/step - loss: 2.9022e-05 - val_loss: 2.5940e-05\n",
            "Epoch 71/100\n",
            "230/230 [==============================] - 3s 15ms/step - loss: 2.9359e-05 - val_loss: 3.6477e-05\n",
            "Epoch 72/100\n",
            "230/230 [==============================] - 3s 15ms/step - loss: 2.8332e-05 - val_loss: 2.6254e-05\n",
            "Epoch 73/100\n",
            "230/230 [==============================] - 3s 15ms/step - loss: 2.7429e-05 - val_loss: 4.1255e-05\n",
            "Epoch 74/100\n",
            "230/230 [==============================] - 3s 15ms/step - loss: 2.8711e-05 - val_loss: 3.5705e-05\n",
            "Epoch 75/100\n",
            "230/230 [==============================] - 3s 15ms/step - loss: 3.1114e-05 - val_loss: 2.6117e-05\n",
            "Epoch 76/100\n",
            "230/230 [==============================] - 3s 15ms/step - loss: 3.0912e-05 - val_loss: 2.9086e-05\n",
            "Epoch 77/100\n",
            "230/230 [==============================] - 3s 15ms/step - loss: 2.9452e-05 - val_loss: 2.7921e-05\n",
            "Epoch 78/100\n",
            "230/230 [==============================] - 3s 15ms/step - loss: 2.9021e-05 - val_loss: 3.7091e-05\n",
            "Epoch 79/100\n",
            "230/230 [==============================] - 3s 15ms/step - loss: 2.9496e-05 - val_loss: 2.7065e-05\n",
            "Epoch 80/100\n",
            "230/230 [==============================] - 3s 15ms/step - loss: 2.7577e-05 - val_loss: 2.6198e-05\n",
            "Epoch 81/100\n",
            "230/230 [==============================] - 3s 15ms/step - loss: 2.6882e-05 - val_loss: 3.1658e-05\n",
            "Epoch 82/100\n",
            "230/230 [==============================] - 3s 15ms/step - loss: 2.7751e-05 - val_loss: 5.9137e-05\n",
            "Epoch 83/100\n",
            "230/230 [==============================] - 4s 15ms/step - loss: 3.1087e-05 - val_loss: 2.8131e-05\n",
            "Epoch 84/100\n",
            "230/230 [==============================] - 3s 15ms/step - loss: 2.6912e-05 - val_loss: 2.5952e-05\n",
            "Epoch 85/100\n",
            "230/230 [==============================] - 3s 15ms/step - loss: 2.6425e-05 - val_loss: 2.9547e-05\n",
            "Epoch 86/100\n",
            "230/230 [==============================] - 3s 15ms/step - loss: 2.7018e-05 - val_loss: 2.6741e-05\n",
            "Epoch 87/100\n",
            "230/230 [==============================] - 3s 15ms/step - loss: 2.8859e-05 - val_loss: 3.4838e-05\n",
            "Epoch 88/100\n",
            "230/230 [==============================] - 4s 15ms/step - loss: 2.8304e-05 - val_loss: 3.0497e-05\n",
            "Epoch 89/100\n",
            "230/230 [==============================] - 4s 15ms/step - loss: 2.9580e-05 - val_loss: 3.7275e-05\n",
            "Epoch 90/100\n",
            "230/230 [==============================] - 3s 15ms/step - loss: 2.9515e-05 - val_loss: 3.9342e-05\n",
            "Epoch 91/100\n",
            "230/230 [==============================] - 3s 15ms/step - loss: 2.7334e-05 - val_loss: 2.4513e-04\n",
            "Epoch 92/100\n",
            "230/230 [==============================] - 4s 16ms/step - loss: 3.5134e-05 - val_loss: 2.5864e-05\n",
            "Epoch 93/100\n",
            "230/230 [==============================] - 4s 15ms/step - loss: 2.6508e-05 - val_loss: 2.9203e-05\n",
            "Epoch 94/100\n",
            "230/230 [==============================] - 4s 16ms/step - loss: 2.8448e-05 - val_loss: 2.6207e-05\n",
            "Epoch 95/100\n",
            "230/230 [==============================] - 4s 16ms/step - loss: 2.6050e-05 - val_loss: 3.8065e-05\n",
            "Epoch 96/100\n",
            "230/230 [==============================] - 4s 15ms/step - loss: 2.8606e-05 - val_loss: 2.6290e-05\n",
            "Epoch 97/100\n",
            "230/230 [==============================] - 4s 15ms/step - loss: 2.6545e-05 - val_loss: 9.6834e-05\n",
            "Epoch 98/100\n",
            "230/230 [==============================] - 4s 16ms/step - loss: 3.0035e-05 - val_loss: 2.5849e-05\n",
            "Epoch 99/100\n",
            "230/230 [==============================] - 4s 16ms/step - loss: 2.7409e-05 - val_loss: 5.9566e-05\n",
            "Epoch 100/100\n",
            "230/230 [==============================] - 4s 15ms/step - loss: 2.8712e-05 - val_loss: 2.6771e-05\n"
          ],
          "name": "stdout"
        },
        {
          "output_type": "execute_result",
          "data": {
            "text/plain": [
              "<tensorflow.python.keras.callbacks.History at 0x7f2c81880a90>"
            ]
          },
          "metadata": {
            "tags": []
          },
          "execution_count": 5
        }
      ]
    },
    {
      "cell_type": "code",
      "metadata": {
        "id": "cIuhdI0Axav8"
      },
      "source": [
        "import tensorflow as tf\n",
        "\n",
        "tf.__version__\n",
        "\n",
        "##Lets Do the Prediction and check performance metrics\n",
        "train_predict=model.predict(X_train)\n",
        "test_predict=model.predict(X_test)\n",
        "\n",
        "##transform to orginal form\n",
        "train_predict=scaler.inverse_transform(train_predict)\n",
        "test_predict=scaler.inverse_transform(test_predict)"
      ],
      "execution_count": null,
      "outputs": []
    },
    {
      "cell_type": "code",
      "metadata": {
        "id": "2KSPKT_kxgsm",
        "colab": {
          "base_uri": "https://localhost:8080/"
        },
        "outputId": "ef3621dd-49df-4f68-c244-3779ca602adb"
      },
      "source": [
        "##calculate RMSE performance metrics\n",
        "import math\n",
        "from sklearn.metrics import mean_squared_error\n",
        "print(math.sqrt(mean_squared_error(y_train,train_predict)))\n",
        "print(math.sqrt(mean_squared_error(y_test,test_predict)))"
      ],
      "execution_count": null,
      "outputs": [
        {
          "output_type": "stream",
          "text": [
            "14638.86561737433\n",
            "14845.071274401485\n"
          ],
          "name": "stdout"
        }
      ]
    },
    {
      "cell_type": "code",
      "metadata": {
        "id": "mtX3lHHXyJ9A",
        "colab": {
          "base_uri": "https://localhost:8080/",
          "height": 481
        },
        "outputId": "6f96865d-2001-4a65-b456-8ae4683f57ed"
      },
      "source": [
        "##Plotting\n",
        "##shift train predictions for plotting\n",
        "look_back=100\n",
        "trainPredictPlot=numpy.empty_like(df1)\n",
        "trainPredictPlot[:,:]=np.nan\n",
        "trainPredictPlot[look_back:len(train_predict)+look_back,:]=train_predict\n",
        "\n",
        "##shift test predictions for plotting\n",
        "testPredictPlot =numpy.empty_like(df1)\n",
        "testPredictPlot[:,:]=numpy.nan\n",
        "testPredictPlot[len(train_predict)+(look_back*2)+1:len(df1)-1,:]=test_predict\n",
        "\n",
        "##plot baseline and predictions\n",
        "plt.figure(figsize=(20,10))\n",
        "plt.plot(scaler.inverse_transform(df1))\n",
        "plt.plot(trainPredictPlot)\n",
        "plt.plot(testPredictPlot)\n",
        "plt.show()"
      ],
      "execution_count": null,
      "outputs": [
        {
          "output_type": "display_data",
          "data": {
            "image/png": "[encoded data removed]",
            "text/plain": [
              "<Figure size 1440x720 with 1 Axes>"
            ]
          },
          "metadata": {
            "tags": [],
            "needs_background": "light"
          }
        }
      ]
    },
    {
      "cell_type": "code",
      "metadata": {
        "id": "3uO3bzj60Wg8"
      },
      "source": [
        ""
      ],
      "execution_count": null,
      "outputs": []
    }
  ]
}